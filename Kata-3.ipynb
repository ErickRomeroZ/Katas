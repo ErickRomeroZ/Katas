{
 "cells": [
  {
   "cell_type": "markdown",
   "metadata": {},
   "source": [
    "# ADVERTENCIA DE ASTEROIDE"
   ]
  },
  {
   "cell_type": "code",
   "execution_count": 7,
   "metadata": {},
   "outputs": [
    {
     "name": "stdout",
     "output_type": "stream",
     "text": [
      "La velocidad del asteroide es de: 54 km/s\n",
      "ADVERTENCIA UN ASTEROIDE SE APROXIMA\n"
     ]
    }
   ],
   "source": [
    "# Añadir el código necesario para crear una variable que guarde la velocidad del asteroide.\n",
    "# Escribe una expresión de prueba para calcular si necesita una advertencia.\n",
    "# Agregue las instrucciones que se ejecutarán si la expresión de prueba es true o false.\n",
    "\n",
    "from random import randint\n",
    "vasteroide = randint(10, 60)\n",
    "print('La velocidad del asteroide es de: '+ str(vasteroide)+ ' km/s')\n",
    "if vasteroide >25:\n",
    "    print('ADVERTENCIA UN ASTEROIDE SE APROXIMA')\n",
    "else:\n",
    "    print('TODO TRANQUILO')"
   ]
  },
  {
   "cell_type": "markdown",
   "metadata": {},
   "source": [
    "# Show estelar"
   ]
  },
  {
   "cell_type": "code",
   "execution_count": 30,
   "metadata": {},
   "outputs": [
    {
     "name": "stdout",
     "output_type": "stream",
     "text": [
      "Sin show estelar\n"
     ]
    }
   ],
   "source": [
    "# Agrega el código para crear una variable para un asteroide que viaja a 19 km/s\n",
    "# Escribe varias expresiones de prueba para determinar si puedes ver el rayo de luz desde la tierra\n",
    "# Agrega las instrucciones que se ejecutarán si las expresiones de prueba son True o False\n",
    "\n",
    "estela = 19\n",
    "if estela > 20:\n",
    "    print('Comienza el espectáculo')\n",
    "elif estela == 20:\n",
    "    print('Comienza el espectáculo')\n",
    "else:\n",
    "    print('Sin show estelar')"
   ]
  },
  {
   "cell_type": "markdown",
   "metadata": {},
   "source": [
    "# ADVERTENCIA DE ASTEROIDE FINAL.FINAL"
   ]
  },
  {
   "cell_type": "code",
   "execution_count": 16,
   "metadata": {},
   "outputs": [
    {
     "name": "stdout",
     "output_type": "stream",
     "text": [
      "La velocidad del asteroide es de: 54 km/s\n",
      "El diámetro del asteroide es de: 461 m\n",
      "Colisión destructiva inminente\n"
     ]
    }
   ],
   "source": [
    "# Agrega el código para crear nuevas variables para la velocidad y el tamaño del asteroide\n",
    "# Para probar el código, prueba con varias velocidades y tamaños\n",
    "# Escribe varias expresiones de prueba o combinaciones de expresiones de prueba para determinar qué mensaje se debe enviar a Tierra.\n",
    "\n",
    "from random import randint\n",
    "vasteroide = randint(10, 60)\n",
    "tasteroide = randint(10, 1500)\n",
    "print('La velocidad del asteroide es de: '+ str(vasteroide)+ ' km/s')\n",
    "print('El diámetro del asteroide es de: '+ str(tasteroide)+ ' m')\n",
    "if vasteroide > 25 and tasteroide > 25 and tasteroide < 1000:\n",
    "    print('Colisión destructiva inminente')\n",
    "elif tasteroide > 1000  or vasteroide > 25:\n",
    "    print('Estamos muertos') \n",
    "elif vasteroide >= 20:\n",
    "    print('Mira el cielo, estela de asteroides visibles')\n",
    "elif tasteroide < 25:\n",
    "    print('TODO TRANQUILO')\n",
    "else:\n",
    "    print('TODO TRANQUILO')"
   ]
  }
 ],
 "metadata": {
  "interpreter": {
   "hash": "532898ae7748393b9689e0bd4faf7b610d272bc6bb8734008bf2ad04433be17e"
  },
  "kernelspec": {
   "display_name": "Python 3.9.6 64-bit",
   "language": "python",
   "name": "python3"
  },
  "language_info": {
   "codemirror_mode": {
    "name": "ipython",
    "version": 3
   },
   "file_extension": ".py",
   "mimetype": "text/x-python",
   "name": "python",
   "nbconvert_exporter": "python",
   "pygments_lexer": "ipython3",
   "version": "3.9.6"
  },
  "orig_nbformat": 4
 },
 "nbformat": 4,
 "nbformat_minor": 2
}
